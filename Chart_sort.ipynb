{
  "cells": [
    {
      "cell_type": "markdown",
      "metadata": {},
      "source": [
        "# Transform the `result.csv` into a LaTeX table"
      ]
    },
    {
      "cell_type": "code",
      "execution_count": 1,
      "metadata": {},
      "outputs": [],
      "source": [
        "import pandas as pd\n",
        "\n",
        "# Load the CSV file with UTF-8 encoding\n",
        "df = pd.read_csv('result.csv', encoding='utf-8')\n",
        "\n",
        "# Define the data orders and algorithms\n",
        "data_orders = df['Data Order'].unique()\n",
        "algorithms = df['Algorithm'].unique()\n",
        "data_sizes_1 = [10000, 30000, 50000]\n",
        "data_sizes_2 = [100000, 300000, 500000]\n",
        "\n",
        "# Function to generate LaTeX table for a given data order and data sizes\n",
        "def generate_latex_table(data_order, data_sizes):\n",
        "    latex = \"\\\\begin{table}[H]\\n\\\\centering\\n\\\\resizebox{\\\\columnwidth}{!}{%\\n\\\\begin{tabular}{|ccccccc|}\\n\\\\hline\\n\"\n",
        "    latex += f\"\\\\multicolumn{{7}}{{|c|}}{{Data Order: {data_order}}} \\\\\\\\ \\\\hline\\n\"\n",
        "    latex += \"\\\\multicolumn{1}{|c|}{\\\\textbf{Data size}} & \" + \" & \".join([f\"\\\\multicolumn{{2}}{{c|}}{{{size}}}\" for size in data_sizes]) + \" \\\\\\\\ \\\\hline\\n\"\n",
        "    latex += \"\\\\multicolumn{1}{|c|}{\\\\textbf{Resulting statics}} & \" + \" & \".join([\"\\\\multicolumn{1}{c|}{Running time} & \\\\multicolumn{1}{c|}{Comparisons}\"] * len(data_sizes)) + \" \\\\\\\\ \\\\hline\\n\"\n",
        "    \n",
        "    for algorithm in algorithms:\n",
        "        latex += f\"\\\\multicolumn{{1}}{{|c|}}{{{algorithm.replace('-', ' ').title()}}} \"\n",
        "        for size in data_sizes:\n",
        "            row = df[(df['Data Order'] == data_order) & (df['Algorithm'] == algorithm) & (df['Data Size'] == size)]\n",
        "            if not row.empty:\n",
        "                running_time = row['Running Time (ms)'].values[0]\n",
        "                comparisons = int(row['Comparisons'].values[0])\n",
        "                latex += f\"& \\\\multicolumn{{1}}{{c|}}{{{running_time}}} & \\\\multicolumn{{1}}{{c|}}{{{comparisons}}} \"\n",
        "            else:\n",
        "                latex += \"& \\\\multicolumn{1}{c|}{} & \\\\multicolumn{1}{c|}{} \"\n",
        "        latex += \"\\\\\\\\ \\\\hline\\n\"\n",
        "    \n",
        "    latex += \"\\\\end{tabular}%\\n}\\n\"\n",
        "    latex += f\"\\\\caption{{Kết quả thực nghiệm cho mảng có Data Order: {data_order}, Data Size: {', '.join(map(str, data_sizes))}}}\\n\"\n",
        "    latex += f\"\\\\label{{tab:{data_order.replace(' ', '_').lower()}_{'_'.join(map(str, data_sizes))}}}\\n\"\n",
        "    latex += \"\\\\end{table}\\n\\n\"\n",
        "    return latex\n",
        "\n",
        "# Generate LaTeX tables for each data order\n",
        "latex_tables = []\n",
        "for i, order in enumerate(data_orders):\n",
        "    latex_tables.append(generate_latex_table(order, data_sizes_1))\n",
        "    latex_tables.append(generate_latex_table(order, data_sizes_2))\n",
        "\n",
        "# Save the LaTeX tables to a file with UTF-8 encoding\n",
        "with open('result_tables.tex', 'w', encoding='utf-8') as f:\n",
        "    for table in latex_tables:\n",
        "        f.write(table)"
      ]
    },
    {
      "cell_type": "markdown",
      "metadata": {},
      "source": [
        "# Data analysis"
      ]
    },
    {
      "cell_type": "code",
      "execution_count": 2,
      "metadata": {
        "id": "ZoyEitN-0TP8"
      },
      "outputs": [],
      "source": [
        "import matplotlib.pyplot as plt\n",
        "import pandas as pd\n",
        "import numpy as np\n",
        "\n",
        "plt.style.use('./style.mplstyle')\n",
        "\n",
        "from pathlib import Path\n",
        "\n",
        "IMAGE_PATH = Path() / \"images\"\n",
        "IMAGE_PATH.mkdir(parents = True, exist_ok = True)\n",
        "\n",
        "def save_fig(fig_id, tight_layout = True, fig_extension = \"png\", resolution = 300):\n",
        "  path = IMAGE_PATH / f\"{fig_id}.{fig_extension}\"\n",
        "  if tight_layout:\n",
        "    plt.tight_layout()\n",
        "  plt.savefig(path, format = fig_extension, dpi = resolution)"
      ]
    },
    {
      "cell_type": "code",
      "execution_count": 3,
      "metadata": {},
      "outputs": [],
      "source": [
        "df = pd.read_csv('result.csv', encoding='utf-8')\n",
        "\n",
        "\n",
        "data_orders = df['Data Order'].unique()\n",
        "algorithms = df['Algorithm'].unique()\n",
        "data_sizes = df['Data Size'].unique()\n",
        "\n",
        "colors = [\"red\", \"green\", \"blue\",  \"olive\", \"black\", \"darkcyan\", \"pink\", \"purple\", \"orange\", \"brown\", \"magenta\"]"
      ]
    },
    {
      "cell_type": "markdown",
      "metadata": {},
      "source": [
        "## Running Time"
      ]
    },
    {
      "cell_type": "code",
      "execution_count": 4,
      "metadata": {},
      "outputs": [],
      "source": [
        "def plot_running_time(data_order_, data_sizes_, algorithms_, colors_, fig_name = ''):\n",
        "    plt.figure(figsize=(12, 8))\n",
        "    for algorithm, color in zip(algorithms_, colors_):\n",
        "        running_times = []\n",
        "        for size in data_sizes_:\n",
        "            row = df[(df['Data Order'] == data_order_) & (df['Algorithm'] == algorithm) & (df['Data Size'] == size)]\n",
        "            if not row.empty:\n",
        "                running_times.append(row['Running Time (ms)'].values[0])\n",
        "            else:\n",
        "                running_times.append(None)\n",
        "        plt.plot(data_sizes_, running_times, marker='o', linestyle='-', color=color, label=algorithm.replace('-', ' ').title())\n",
        "    \n",
        "    plt.title(f\"Running Time for {data_order_} Data Order\" if not fig_name else fig_name)\n",
        "    plt.xlabel(\"Data Size\")\n",
        "    plt.ylabel(\"Running Time (ms)\")\n",
        "    plt.legend()\n",
        "    plt.grid(True)\n",
        "    save_fig(f\"{data_order_.lower().replace(' ', '_')}_running_time\" if not fig_name else fig_name.lower().replace(' ', '_'))\n",
        "    plt.show()"
      ]
    },
    {
      "cell_type": "markdown",
      "metadata": {},
      "source": [
        "### 1. Randomize"
      ]
    },
    {
      "cell_type": "code",
      "execution_count": null,
      "metadata": {},
      "outputs": [],
      "source": [
        "plot_running_time(\"Randomize\", data_sizes, algorithms, colors)"
      ]
    },
    {
      "cell_type": "markdown",
      "metadata": {},
      "source": [
        "Remove Bubble, Shaker, Selection, Insertion"
      ]
    },
    {
      "cell_type": "code",
      "execution_count": null,
      "metadata": {},
      "outputs": [],
      "source": [
        "excluded_algorithms = ['bubble-sort', 'shaker-sort', 'selection-sort', 'insertion-sort']\n",
        "filtered_algorithms = [algorithm for algorithm in algorithms if algorithm not in excluded_algorithms]\n",
        "plot_running_time(\"Randomize\", data_sizes, filtered_algorithms, colors, \"Randomize running time filtered\")"
      ]
    },
    {
      "cell_type": "markdown",
      "metadata": {},
      "source": [
        "### 2. Nearly sorted"
      ]
    },
    {
      "cell_type": "code",
      "execution_count": null,
      "metadata": {},
      "outputs": [],
      "source": [
        "plot_running_time(\"Nearly sorted\", data_sizes, algorithms, colors)"
      ]
    },
    {
      "cell_type": "markdown",
      "metadata": {},
      "source": [
        "Remove Bubble, Selection"
      ]
    },
    {
      "cell_type": "code",
      "execution_count": null,
      "metadata": {},
      "outputs": [],
      "source": [
        "excluded_algorithms = ['bubble-sort', 'selection-sort']\n",
        "filtered_algorithms = [algorithm for algorithm in algorithms if algorithm not in excluded_algorithms]\n",
        "plot_running_time(\"Nearly sorted\", data_sizes, filtered_algorithms, colors, \"Nearly sorted running time filtered\")"
      ]
    },
    {
      "cell_type": "markdown",
      "metadata": {},
      "source": [
        "### 3. Sorted"
      ]
    },
    {
      "cell_type": "code",
      "execution_count": null,
      "metadata": {},
      "outputs": [],
      "source": [
        "plot_running_time(\"Sorted\", data_sizes, algorithms, colors)"
      ]
    },
    {
      "cell_type": "markdown",
      "metadata": {},
      "source": [
        "Remove Selection"
      ]
    },
    {
      "cell_type": "code",
      "execution_count": null,
      "metadata": {},
      "outputs": [],
      "source": [
        "excluded_algorithms = ['selection-sort']\n",
        "filtered_algorithms = [algorithm for algorithm in algorithms if algorithm not in excluded_algorithms]\n",
        "plot_running_time(\"Sorted\", data_sizes, filtered_algorithms, colors, \"Sorted running time filtered\")"
      ]
    },
    {
      "cell_type": "markdown",
      "metadata": {},
      "source": [
        "### 4. Reversed"
      ]
    },
    {
      "cell_type": "code",
      "execution_count": null,
      "metadata": {},
      "outputs": [],
      "source": [
        "plot_running_time(\"Reversed\", data_sizes, algorithms, colors)"
      ]
    },
    {
      "cell_type": "markdown",
      "metadata": {},
      "source": [
        "Remove selection sort"
      ]
    },
    {
      "cell_type": "code",
      "execution_count": null,
      "metadata": {},
      "outputs": [],
      "source": [
        "excluded_algorithms = ['selection-sort', 'bubble-sort', 'shaker-sort', 'insertion-sort']\n",
        "filtered_algorithms = [algorithm for algorithm in algorithms if algorithm not in excluded_algorithms]\n",
        "plot_running_time(\"Reversed\", data_sizes, filtered_algorithms, colors, \"Reversed running time filtered\")"
      ]
    },
    {
      "cell_type": "markdown",
      "metadata": {},
      "source": [
        "## Comparison"
      ]
    },
    {
      "cell_type": "code",
      "execution_count": 13,
      "metadata": {},
      "outputs": [],
      "source": [
        "def plot_comparison(data_order_, data_sizes_, algorithms_, colors_, fig_name = ''):\n",
        "    plt.figure(figsize=(12, 8))\n",
        "    bar_width = 0.1\n",
        "    index = range(len(algorithms_))\n",
        "    \n",
        "    for i, (size, color) in enumerate(zip(data_sizes_, colors_)):\n",
        "        comparisons = []\n",
        "        for algorithm in algorithms_:\n",
        "            row = df[(df['Data Order'] == data_order_) & (df['Algorithm'] == algorithm) & (df['Data Size'] == size)]\n",
        "            if not row.empty:\n",
        "                comparisons.append(row['Comparisons'].values[0])\n",
        "            else:\n",
        "                comparisons.append(0)\n",
        "        plt.bar([p + bar_width * i for p in index], comparisons, bar_width, color=color, label=f'Data Size {size}')\n",
        "    \n",
        "    plt.title(f\"Comparisons for {data_order_} Data Order\" if not fig_name else fig_name)\n",
        "    plt.xlabel(\"Algorithm\")\n",
        "    plt.ylabel(\"Comparisons\")\n",
        "    plt.xticks([p + bar_width * (len(data_sizes_) / 2) for p in index], [algorithm.replace('-', ' ').title() for algorithm in algorithms_])\n",
        "    plt.legend()\n",
        "    plt.grid(True)\n",
        "    save_fig(f\"{data_order_.lower().replace(' ', '_')}_comparisons\" if not fig_name else fig_name.lower().replace(' ', '_'))\n",
        "    plt.show()"
      ]
    },
    {
      "cell_type": "markdown",
      "metadata": {},
      "source": [
        "### Plot all algorithms"
      ]
    },
    {
      "cell_type": "code",
      "execution_count": 14,
      "metadata": {},
      "outputs": [],
      "source": [
        "def plot_comparison_for_all_algorithms(data_orders_, data_sizes_, algorithms_, colors_, fig_name=''):\n",
        "    fig, axes = plt.subplots(2, 2, figsize=(16, 12))\n",
        "    axes = axes.flatten()\n",
        "    \n",
        "    bar_width = 0.15 \n",
        "    index = np.arange(len(algorithms_))\n",
        "    \n",
        "    for ax, data_order_ in zip(axes, data_orders_):\n",
        "        for i, (size, color) in enumerate(zip(data_sizes_, colors_)):\n",
        "            comparisons = []\n",
        "            for algorithm in algorithms_:\n",
        "                row = df[(df['Data Order'] == data_order_) & (df['Algorithm'] == algorithm) & (df['Data Size'] == size)]\n",
        "                if not row.empty:\n",
        "                    comparisons.append(row['Comparisons'].values[0])\n",
        "                else:\n",
        "                    comparisons.append(0)\n",
        "            ax.bar(index + bar_width * i, comparisons, bar_width, color=color, alpha=1, label=f'Data Size {size}')\n",
        "        \n",
        "        ax.set_title(f\"Comparisons for {data_order_} Data Order\")\n",
        "        ax.set_xlabel(\"Algorithm\")\n",
        "        ax.set_ylabel(\"Comparisons\")\n",
        "        ax.set_xticks(index + bar_width * (len(data_sizes_) / 2))\n",
        "        ax.set_xticklabels([algorithm.replace('-', ' ').title() for algorithm in algorithms_], rotation=45, ha='right')\n",
        "        ax.legend()\n",
        "        ax.grid(True)\n",
        "    \n",
        "    plt.tight_layout()\n",
        "    if fig_name:\n",
        "        fig.suptitle(fig_name)\n",
        "    save_fig(f\"{'_'.join([order.lower().replace(' ', '_') for order in data_orders_])}_comparisons\" if not fig_name else fig_name.lower().replace(' ', '_'))\n",
        "    plt.show()"
      ]
    },
    {
      "cell_type": "code",
      "execution_count": null,
      "metadata": {},
      "outputs": [],
      "source": [
        "plot_comparison_for_all_algorithms(data_orders, data_sizes, algorithms, colors, \"All the number of comparisons for each algorithm of each data order\")"
      ]
    },
    {
      "cell_type": "markdown",
      "metadata": {},
      "source": [
        "Grouping 10 algoithms into 3 group"
      ]
    },
    {
      "cell_type": "code",
      "execution_count": 16,
      "metadata": {},
      "outputs": [],
      "source": [
        "algo_group_1 = [\"insertion-sort\", \"bubble-sort\", \"shaker-sort\"]\n",
        "algo_group_2 = [\"shell-sort\", \"heap-sort\", \"merge-sort\", \"quick-sort\"]\n",
        "algo_group_3 = [\"counting-sort\", \"radix-sort\", \"flash-sort\"]"
      ]
    },
    {
      "cell_type": "code",
      "execution_count": null,
      "metadata": {},
      "outputs": [],
      "source": [
        "plot_comparison_for_all_algorithms(\n",
        "    data_orders, \n",
        "    data_sizes, \n",
        "    algo_group_1 + algo_group_2 + algo_group_3, \n",
        "    colors, \n",
        "    \"All the number of comparisons for each algorithm of each data order remove Selection Sort\"\n",
        ")"
      ]
    },
    {
      "cell_type": "markdown",
      "metadata": {},
      "source": [
        "Group 1"
      ]
    },
    {
      "cell_type": "code",
      "execution_count": null,
      "metadata": {},
      "outputs": [],
      "source": [
        "plot_comparison_for_all_algorithms(\n",
        "    data_orders, \n",
        "    data_sizes, \n",
        "    algo_group_1, \n",
        "    colors, \n",
        "    \"All the number of comparisons for each algorithm in Group 1 of each data order\"\n",
        ")"
      ]
    },
    {
      "cell_type": "markdown",
      "metadata": {},
      "source": [
        "Group 2"
      ]
    },
    {
      "cell_type": "code",
      "execution_count": null,
      "metadata": {},
      "outputs": [],
      "source": [
        "plot_comparison_for_all_algorithms(\n",
        "    data_orders, \n",
        "    data_sizes, \n",
        "    algo_group_2, \n",
        "    colors, \n",
        "    \"All the number of comparisons for each algorithm in Group 2 of each data order\"\n",
        ")"
      ]
    },
    {
      "cell_type": "markdown",
      "metadata": {},
      "source": [
        "Group 3"
      ]
    },
    {
      "cell_type": "code",
      "execution_count": null,
      "metadata": {},
      "outputs": [],
      "source": [
        "plot_comparison_for_all_algorithms(\n",
        "    data_orders, \n",
        "    data_sizes, \n",
        "    algo_group_3, \n",
        "    colors, \n",
        "    \"All the number of comparisons for each algorithm in Group 3 of each data order\"\n",
        ")"
      ]
    },
    {
      "cell_type": "code",
      "execution_count": null,
      "metadata": {},
      "outputs": [],
      "source": []
    }
  ],
  "metadata": {
    "colab": {
      "authorship_tag": "ABX9TyPH1FF3cL8/3d/9cCh70q+z",
      "include_colab_link": true,
      "provenance": []
    },
    "kernelspec": {
      "display_name": "Python 3",
      "name": "python3"
    },
    "language_info": {
      "codemirror_mode": {
        "name": "ipython",
        "version": 3
      },
      "file_extension": ".py",
      "mimetype": "text/x-python",
      "name": "python",
      "nbconvert_exporter": "python",
      "pygments_lexer": "ipython3",
      "version": "3.12.4"
    }
  },
  "nbformat": 4,
  "nbformat_minor": 0
}
